{
 "cells": [
  {
   "cell_type": "code",
   "execution_count": 12,
   "id": "92228aa0",
   "metadata": {},
   "outputs": [
    {
     "name": "stdout",
     "output_type": "stream",
     "text": [
      "✅ Modelo carregado com sucesso!\n"
     ]
    }
   ],
   "source": [
    "import pandas as pd\n",
    "import numpy as np\n",
    "import joblib\n",
    "\n",
    "# 1️⃣ Carregar modelo salvo\n",
    "loaded_model = joblib.load('modelo_polinomial_smote.pkl')\n",
    "print(\"✅ Modelo carregado com sucesso!\")\n",
    "df_test = pd.read_csv('cs-test.csv')\n",
    "df_test.fillna({'MonthlyIncome': df_test['MonthlyIncome'].median(), 'NumberOfDependents': df_test['NumberOfDependents'].median()}, inplace=True)\n",
    "# 2️⃣ Carregar o dataset de teste\n",
    "df_test[\"IncomePerDependent\"] = df_test[\"MonthlyIncome\"] / (df_test[\"NumberOfDependents\"] + 1)\n",
    "df_test[\"DebtPerLoan\"] = df_test[\"DebtRatio\"] / (df_test[\"NumberOfOpenCreditLinesAndLoans\"] + 1)\n",
    "df_test[\"Pagamentos_atrasados_Total\"] = df_test['NumberOfTime30-59DaysPastDueNotWorse'] + df_test['NumberOfTime60-89DaysPastDueNotWorse'] + df_test['NumberOfTimes90DaysLate']\n",
    "# 3️⃣ Garantir que as mesmas features existam (ajuste se necessário)\n",
    "cols_to_use = [\n",
    "    'RevolvingUtilizationOfUnsecuredLines', 'age',\n",
    "    'NumberOfOpenCreditLinesAndLoans', 'NumberRealEstateLoansOrLines',\n",
    "    'NumberOfDependents', 'IncomePerDependent',\n",
    "    'Pagamentos_atrasados_Total', 'MonthlyIncome_log',\n",
    "    'DebtRatio_clipped', 'DebtPerLoan_clipped'\n",
    "]\n",
    "\n",
    "# ⚠️ Se o dataset de teste ainda não tiver as versões \"_log\" ou \"_clipped\",\n",
    "# você precisa criar essas 3 colunas (elas foram geradas fora do pipeline):\n",
    "\n",
    "df_test['MonthlyIncome_log'] = np.log1p(df_test['MonthlyIncome'].clip(lower=0))\n",
    "df_test['DebtRatio_clipped'] = df_test['DebtRatio'].clip(upper=10)\n",
    "df_test['DebtPerLoan_clipped'] = df_test['DebtPerLoan'].clip(upper=100)\n",
    "\n",
    "# 4️⃣ Selecionar as colunas certas\n",
    "X_new = df_test[cols_to_use]\n",
    "\n",
    "# 5️⃣ Gerar probabilidades de inadimplência\n",
    "y_pred_proba = loaded_model.predict_proba(X_new)[:, 1]\n",
    "\n",
    "# 6️⃣ Criar arquivo\n"
   ]
  },
  {
   "cell_type": "code",
   "execution_count": 13,
   "id": "20b2f3ca",
   "metadata": {},
   "outputs": [
    {
     "data": {
      "text/plain": [
       "array([0.50879547, 0.35886678, 0.17650501, ..., 1.        , 1.        ,\n",
       "       0.38881189])"
      ]
     },
     "execution_count": 13,
     "metadata": {},
     "output_type": "execute_result"
    }
   ],
   "source": [
    "y_pred_proba"
   ]
  },
  {
   "cell_type": "code",
   "execution_count": 14,
   "id": "cdd5c6eb",
   "metadata": {},
   "outputs": [
    {
     "name": "stdout",
     "output_type": "stream",
     "text": [
      "✅ Arquivo 'my_submission.csv' criado com sucesso!\n"
     ]
    }
   ],
   "source": [
    "submission = pd.DataFrame({\n",
    "    'Id': np.arange(1, len(y_pred_proba) + 1),\n",
    "    'Probability': y_pred_proba\n",
    "})\n",
    "submission.to_csv('my_submission.csv', index=False)\n",
    "print(\"✅ Arquivo 'my_submission.csv' criado com sucesso!\")\n"
   ]
  },
  {
   "cell_type": "code",
   "execution_count": 15,
   "id": "c1a84014",
   "metadata": {},
   "outputs": [
    {
     "data": {
      "text/html": [
       "<div>\n",
       "<style scoped>\n",
       "    .dataframe tbody tr th:only-of-type {\n",
       "        vertical-align: middle;\n",
       "    }\n",
       "\n",
       "    .dataframe tbody tr th {\n",
       "        vertical-align: top;\n",
       "    }\n",
       "\n",
       "    .dataframe thead th {\n",
       "        text-align: right;\n",
       "    }\n",
       "</style>\n",
       "<table border=\"1\" class=\"dataframe\">\n",
       "  <thead>\n",
       "    <tr style=\"text-align: right;\">\n",
       "      <th></th>\n",
       "      <th>Id</th>\n",
       "      <th>Probability</th>\n",
       "    </tr>\n",
       "  </thead>\n",
       "  <tbody>\n",
       "    <tr>\n",
       "      <th>0</th>\n",
       "      <td>1</td>\n",
       "      <td>0.508795</td>\n",
       "    </tr>\n",
       "    <tr>\n",
       "      <th>1</th>\n",
       "      <td>2</td>\n",
       "      <td>0.358867</td>\n",
       "    </tr>\n",
       "    <tr>\n",
       "      <th>2</th>\n",
       "      <td>3</td>\n",
       "      <td>0.176505</td>\n",
       "    </tr>\n",
       "    <tr>\n",
       "      <th>3</th>\n",
       "      <td>4</td>\n",
       "      <td>0.670828</td>\n",
       "    </tr>\n",
       "    <tr>\n",
       "      <th>4</th>\n",
       "      <td>5</td>\n",
       "      <td>0.734936</td>\n",
       "    </tr>\n",
       "  </tbody>\n",
       "</table>\n",
       "</div>"
      ],
      "text/plain": [
       "   Id  Probability\n",
       "0   1     0.508795\n",
       "1   2     0.358867\n",
       "2   3     0.176505\n",
       "3   4     0.670828\n",
       "4   5     0.734936"
      ]
     },
     "execution_count": 15,
     "metadata": {},
     "output_type": "execute_result"
    }
   ],
   "source": [
    "df2 = pd.read_csv('my_submission.csv')\n",
    "df2.head()"
   ]
  },
  {
   "cell_type": "code",
   "execution_count": 17,
   "id": "09834d47",
   "metadata": {},
   "outputs": [
    {
     "data": {
      "text/html": [
       "<div>\n",
       "<style scoped>\n",
       "    .dataframe tbody tr th:only-of-type {\n",
       "        vertical-align: middle;\n",
       "    }\n",
       "\n",
       "    .dataframe tbody tr th {\n",
       "        vertical-align: top;\n",
       "    }\n",
       "\n",
       "    .dataframe thead th {\n",
       "        text-align: right;\n",
       "    }\n",
       "</style>\n",
       "<table border=\"1\" class=\"dataframe\">\n",
       "  <thead>\n",
       "    <tr style=\"text-align: right;\">\n",
       "      <th></th>\n",
       "      <th>Id</th>\n",
       "      <th>Probability</th>\n",
       "    </tr>\n",
       "  </thead>\n",
       "  <tbody>\n",
       "    <tr>\n",
       "      <th>50751</th>\n",
       "      <td>50752</td>\n",
       "      <td>1.0</td>\n",
       "    </tr>\n",
       "    <tr>\n",
       "      <th>67673</th>\n",
       "      <td>67674</td>\n",
       "      <td>1.0</td>\n",
       "    </tr>\n",
       "    <tr>\n",
       "      <th>22199</th>\n",
       "      <td>22200</td>\n",
       "      <td>1.0</td>\n",
       "    </tr>\n",
       "    <tr>\n",
       "      <th>67648</th>\n",
       "      <td>67649</td>\n",
       "      <td>1.0</td>\n",
       "    </tr>\n",
       "    <tr>\n",
       "      <th>22197</th>\n",
       "      <td>22198</td>\n",
       "      <td>1.0</td>\n",
       "    </tr>\n",
       "    <tr>\n",
       "      <th>22191</th>\n",
       "      <td>22192</td>\n",
       "      <td>1.0</td>\n",
       "    </tr>\n",
       "    <tr>\n",
       "      <th>67655</th>\n",
       "      <td>67656</td>\n",
       "      <td>1.0</td>\n",
       "    </tr>\n",
       "    <tr>\n",
       "      <th>67660</th>\n",
       "      <td>67661</td>\n",
       "      <td>1.0</td>\n",
       "    </tr>\n",
       "    <tr>\n",
       "      <th>67665</th>\n",
       "      <td>67666</td>\n",
       "      <td>1.0</td>\n",
       "    </tr>\n",
       "    <tr>\n",
       "      <th>22184</th>\n",
       "      <td>22185</td>\n",
       "      <td>1.0</td>\n",
       "    </tr>\n",
       "  </tbody>\n",
       "</table>\n",
       "</div>"
      ],
      "text/plain": [
       "          Id  Probability\n",
       "50751  50752          1.0\n",
       "67673  67674          1.0\n",
       "22199  22200          1.0\n",
       "67648  67649          1.0\n",
       "22197  22198          1.0\n",
       "22191  22192          1.0\n",
       "67655  67656          1.0\n",
       "67660  67661          1.0\n",
       "67665  67666          1.0\n",
       "22184  22185          1.0"
      ]
     },
     "execution_count": 17,
     "metadata": {},
     "output_type": "execute_result"
    }
   ],
   "source": [
    "df2.sort_values('Probability', ascending=False).head(10)\n"
   ]
  },
  {
   "cell_type": "code",
   "execution_count": 19,
   "id": "48911671",
   "metadata": {},
   "outputs": [
    {
     "data": {
      "text/html": [
       "<div>\n",
       "<style scoped>\n",
       "    .dataframe tbody tr th:only-of-type {\n",
       "        vertical-align: middle;\n",
       "    }\n",
       "\n",
       "    .dataframe tbody tr th {\n",
       "        vertical-align: top;\n",
       "    }\n",
       "\n",
       "    .dataframe thead th {\n",
       "        text-align: right;\n",
       "    }\n",
       "</style>\n",
       "<table border=\"1\" class=\"dataframe\">\n",
       "  <thead>\n",
       "    <tr style=\"text-align: right;\">\n",
       "      <th></th>\n",
       "      <th>Id</th>\n",
       "      <th>Probability</th>\n",
       "    </tr>\n",
       "  </thead>\n",
       "  <tbody>\n",
       "    <tr>\n",
       "      <th>12927</th>\n",
       "      <td>12928</td>\n",
       "      <td>0.0</td>\n",
       "    </tr>\n",
       "    <tr>\n",
       "      <th>17867</th>\n",
       "      <td>17868</td>\n",
       "      <td>0.0</td>\n",
       "    </tr>\n",
       "    <tr>\n",
       "      <th>10310</th>\n",
       "      <td>10311</td>\n",
       "      <td>0.0</td>\n",
       "    </tr>\n",
       "    <tr>\n",
       "      <th>35282</th>\n",
       "      <td>35283</td>\n",
       "      <td>0.0</td>\n",
       "    </tr>\n",
       "    <tr>\n",
       "      <th>71760</th>\n",
       "      <td>71761</td>\n",
       "      <td>0.0</td>\n",
       "    </tr>\n",
       "    <tr>\n",
       "      <th>65962</th>\n",
       "      <td>65963</td>\n",
       "      <td>0.0</td>\n",
       "    </tr>\n",
       "    <tr>\n",
       "      <th>69513</th>\n",
       "      <td>69514</td>\n",
       "      <td>0.0</td>\n",
       "    </tr>\n",
       "    <tr>\n",
       "      <th>14916</th>\n",
       "      <td>14917</td>\n",
       "      <td>0.0</td>\n",
       "    </tr>\n",
       "    <tr>\n",
       "      <th>78499</th>\n",
       "      <td>78500</td>\n",
       "      <td>0.0</td>\n",
       "    </tr>\n",
       "    <tr>\n",
       "      <th>10721</th>\n",
       "      <td>10722</td>\n",
       "      <td>0.0</td>\n",
       "    </tr>\n",
       "  </tbody>\n",
       "</table>\n",
       "</div>"
      ],
      "text/plain": [
       "          Id  Probability\n",
       "12927  12928          0.0\n",
       "17867  17868          0.0\n",
       "10310  10311          0.0\n",
       "35282  35283          0.0\n",
       "71760  71761          0.0\n",
       "65962  65963          0.0\n",
       "69513  69514          0.0\n",
       "14916  14917          0.0\n",
       "78499  78500          0.0\n",
       "10721  10722          0.0"
      ]
     },
     "execution_count": 19,
     "metadata": {},
     "output_type": "execute_result"
    }
   ],
   "source": [
    "df2.sort_values('Probability', ascending=True).head(10)\n"
   ]
  },
  {
   "cell_type": "code",
   "execution_count": 20,
   "id": "420a6fdc",
   "metadata": {},
   "outputs": [
    {
     "data": {
      "image/png": "[encoded data removed]",
      "text/plain": [
       "<Figure size 800x500 with 1 Axes>"
      ]
     },
     "metadata": {},
     "output_type": "display_data"
    }
   ],
   "source": [
    "import matplotlib.pyplot as plt\n",
    "\n",
    "plt.figure(figsize=(8,5))\n",
    "plt.hist(df2['Probability'], bins=50, color='royalblue', edgecolor='black')\n",
    "plt.title('Distribuição das Probabilidades de Inadimplência')\n",
    "plt.xlabel('Probabilidade prevista')\n",
    "plt.ylabel('Frequência')\n",
    "plt.show()\n"
   ]
  }
 ],
 "metadata": {
  "kernelspec": {
   "display_name": "base",
   "language": "python",
   "name": "python3"
  },
  "language_info": {
   "codemirror_mode": {
    "name": "ipython",
    "version": 3
   },
   "file_extension": ".py",
   "mimetype": "text/x-python",
   "name": "python",
   "nbconvert_exporter": "python",
   "pygments_lexer": "ipython3",
   "version": "3.12.7"
  }
 },
 "nbformat": 4,
 "nbformat_minor": 5
}
